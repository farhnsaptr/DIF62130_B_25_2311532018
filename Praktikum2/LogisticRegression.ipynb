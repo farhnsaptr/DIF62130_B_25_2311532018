{
  "nbformat": 4,
  "nbformat_minor": 0,
  "metadata": {
    "colab": {
      "provenance": [],
      "include_colab_link": true
    },
    "kernelspec": {
      "name": "python3",
      "display_name": "Python 3"
    },
    "language_info": {
      "name": "python"
    }
  },
  "cells": [
    {
      "cell_type": "markdown",
      "metadata": {
        "id": "view-in-github",
        "colab_type": "text"
      },
      "source": [
        "<a href=\"https://colab.research.google.com/github/farhnsaptr/DIF62130_B_25_2311532018/blob/main/Praktikum2/LogisticRegression.ipynb\" target=\"_parent\"><img src=\"https://colab.research.google.com/assets/colab-badge.svg\" alt=\"Open In Colab\"/></a>"
      ]
    },
    {
      "cell_type": "markdown",
      "source": [
        "# Logistic Regression\n",
        "\n",
        "Logistic regression adalah sebuah algoritma supervised machine dimana algoritma ini bertujuan untuk mengklasifikasikan dan memprekdiksi probabilitas bahwa sebuah data tes yang diberikan berada dalam satu kelas tersebut atau tidak. Logistic regression adalah sebuah algoritma statistik bertujuan untuk menganalisa relasi antara faktor dua data.\n",
        "\n",
        "Logistic regression digunakan untuk klasifikasi biner di mana menggunakan fungsi sigmoid, yang mengambil input sebagai variabel independen dan menghasilkan nilai probabilitas antara 0 dan 1.\n",
        "\n",
        "![46-4-e1715636469361.png](data:image/png;base64,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)\n",
        "\n",
        "berikut adalah contoh visualisai dari sebuah logistic regression."
      ],
      "metadata": {
        "id": "FFeC6eCwd00L"
      }
    },
    {
      "cell_type": "markdown",
      "source": [
        "Pada praktikum kali ini, kita akan mempraktikan model logistic regression dari sebuah dataset tentang prediksi diabetes berdasarkan beberapa fitur. Dataset ini memiliki sebaha kolom label dimana label tersebut akan menjadi variabel bebas, dan memiliki beberapa kolom fitur dimana fitur tersebut akan menjadi variael terikat."
      ],
      "metadata": {
        "id": "yw0dqldEfV90"
      }
    },
    {
      "cell_type": "markdown",
      "source": [
        "# 1. Import Library\n",
        "Pertama-tama, kita akan mengimport seluruh library yang dibutuhkan dalam proses pemodelan data. Library yang dibutuhkan antara lain pandas untuk membaca dataset, sklearn untuk pemodelan, matplotlib dan seaborn untuk visualisasi data, dan numpy untuk operasi aritmatika.\n",
        "\n",
        "kita juga akan mengimport dataset dari github yang telah dimasukan dalam repository penulis.\n"
      ],
      "metadata": {
        "id": "-bMVT5iPf7xE"
      }
    },
    {
      "cell_type": "code",
      "execution_count": null,
      "metadata": {
        "id": "y3A2Ug4wHFla",
        "outputId": "a77232f6-d3af-4546-b397-b435b08969f7",
        "colab": {
          "base_uri": "https://localhost:8080/",
          "height": 206
        }
      },
      "outputs": [
        {
          "output_type": "execute_result",
          "data": {
            "text/plain": [
              "   Pregnancies  Glucose  BloodPressure  SkinThickness  Insulin   BMI  \\\n",
              "0            6      148             72             35        0  33.6   \n",
              "1            1       85             66             29        0  26.6   \n",
              "2            8      183             64              0        0  23.3   \n",
              "3            1       89             66             23       94  28.1   \n",
              "4            0      137             40             35      168  43.1   \n",
              "\n",
              "   DiabetesPedigreeFunction  Age  Outcome  \n",
              "0                     0.627   50        1  \n",
              "1                     0.351   31        0  \n",
              "2                     0.672   32        1  \n",
              "3                     0.167   21        0  \n",
              "4                     2.288   33        1  "
            ],
            "text/html": [
              "\n",
              "  <div id=\"df-4835d5ea-7893-499d-8e02-b4be0eabf0a5\" class=\"colab-df-container\">\n",
              "    <div>\n",
              "<style scoped>\n",
              "    .dataframe tbody tr th:only-of-type {\n",
              "        vertical-align: middle;\n",
              "    }\n",
              "\n",
              "    .dataframe tbody tr th {\n",
              "        vertical-align: top;\n",
              "    }\n",
              "\n",
              "    .dataframe thead th {\n",
              "        text-align: right;\n",
              "    }\n",
              "</style>\n",
              "<table border=\"1\" class=\"dataframe\">\n",
              "  <thead>\n",
              "    <tr style=\"text-align: right;\">\n",
              "      <th></th>\n",
              "      <th>Pregnancies</th>\n",
              "      <th>Glucose</th>\n",
              "      <th>BloodPressure</th>\n",
              "      <th>SkinThickness</th>\n",
              "      <th>Insulin</th>\n",
              "      <th>BMI</th>\n",
              "      <th>DiabetesPedigreeFunction</th>\n",
              "      <th>Age</th>\n",
              "      <th>Outcome</th>\n",
              "    </tr>\n",
              "  </thead>\n",
              "  <tbody>\n",
              "    <tr>\n",
              "      <th>0</th>\n",
              "      <td>6</td>\n",
              "      <td>148</td>\n",
              "      <td>72</td>\n",
              "      <td>35</td>\n",
              "      <td>0</td>\n",
              "      <td>33.6</td>\n",
              "      <td>0.627</td>\n",
              "      <td>50</td>\n",
              "      <td>1</td>\n",
              "    </tr>\n",
              "    <tr>\n",
              "      <th>1</th>\n",
              "      <td>1</td>\n",
              "      <td>85</td>\n",
              "      <td>66</td>\n",
              "      <td>29</td>\n",
              "      <td>0</td>\n",
              "      <td>26.6</td>\n",
              "      <td>0.351</td>\n",
              "      <td>31</td>\n",
              "      <td>0</td>\n",
              "    </tr>\n",
              "    <tr>\n",
              "      <th>2</th>\n",
              "      <td>8</td>\n",
              "      <td>183</td>\n",
              "      <td>64</td>\n",
              "      <td>0</td>\n",
              "      <td>0</td>\n",
              "      <td>23.3</td>\n",
              "      <td>0.672</td>\n",
              "      <td>32</td>\n",
              "      <td>1</td>\n",
              "    </tr>\n",
              "    <tr>\n",
              "      <th>3</th>\n",
              "      <td>1</td>\n",
              "      <td>89</td>\n",
              "      <td>66</td>\n",
              "      <td>23</td>\n",
              "      <td>94</td>\n",
              "      <td>28.1</td>\n",
              "      <td>0.167</td>\n",
              "      <td>21</td>\n",
              "      <td>0</td>\n",
              "    </tr>\n",
              "    <tr>\n",
              "      <th>4</th>\n",
              "      <td>0</td>\n",
              "      <td>137</td>\n",
              "      <td>40</td>\n",
              "      <td>35</td>\n",
              "      <td>168</td>\n",
              "      <td>43.1</td>\n",
              "      <td>2.288</td>\n",
              "      <td>33</td>\n",
              "      <td>1</td>\n",
              "    </tr>\n",
              "  </tbody>\n",
              "</table>\n",
              "</div>\n",
              "    <div class=\"colab-df-buttons\">\n",
              "\n",
              "  <div class=\"colab-df-container\">\n",
              "    <button class=\"colab-df-convert\" onclick=\"convertToInteractive('df-4835d5ea-7893-499d-8e02-b4be0eabf0a5')\"\n",
              "            title=\"Convert this dataframe to an interactive table.\"\n",
              "            style=\"display:none;\">\n",
              "\n",
              "  <svg xmlns=\"http://www.w3.org/2000/svg\" height=\"24px\" viewBox=\"0 -960 960 960\">\n",
              "    <path d=\"M120-120v-720h720v720H120Zm60-500h600v-160H180v160Zm220 220h160v-160H400v160Zm0 220h160v-160H400v160ZM180-400h160v-160H180v160Zm440 0h160v-160H620v160ZM180-180h160v-160H180v160Zm440 0h160v-160H620v160Z\"/>\n",
              "  </svg>\n",
              "    </button>\n",
              "\n",
              "  <style>\n",
              "    .colab-df-container {\n",
              "      display:flex;\n",
              "      gap: 12px;\n",
              "    }\n",
              "\n",
              "    .colab-df-convert {\n",
              "      background-color: #E8F0FE;\n",
              "      border: none;\n",
              "      border-radius: 50%;\n",
              "      cursor: pointer;\n",
              "      display: none;\n",
              "      fill: #1967D2;\n",
              "      height: 32px;\n",
              "      padding: 0 0 0 0;\n",
              "      width: 32px;\n",
              "    }\n",
              "\n",
              "    .colab-df-convert:hover {\n",
              "      background-color: #E2EBFA;\n",
              "      box-shadow: 0px 1px 2px rgba(60, 64, 67, 0.3), 0px 1px 3px 1px rgba(60, 64, 67, 0.15);\n",
              "      fill: #174EA6;\n",
              "    }\n",
              "\n",
              "    .colab-df-buttons div {\n",
              "      margin-bottom: 4px;\n",
              "    }\n",
              "\n",
              "    [theme=dark] .colab-df-convert {\n",
              "      background-color: #3B4455;\n",
              "      fill: #D2E3FC;\n",
              "    }\n",
              "\n",
              "    [theme=dark] .colab-df-convert:hover {\n",
              "      background-color: #434B5C;\n",
              "      box-shadow: 0px 1px 3px 1px rgba(0, 0, 0, 0.15);\n",
              "      filter: drop-shadow(0px 1px 2px rgba(0, 0, 0, 0.3));\n",
              "      fill: #FFFFFF;\n",
              "    }\n",
              "  </style>\n",
              "\n",
              "    <script>\n",
              "      const buttonEl =\n",
              "        document.querySelector('#df-4835d5ea-7893-499d-8e02-b4be0eabf0a5 button.colab-df-convert');\n",
              "      buttonEl.style.display =\n",
              "        google.colab.kernel.accessAllowed ? 'block' : 'none';\n",
              "\n",
              "      async function convertToInteractive(key) {\n",
              "        const element = document.querySelector('#df-4835d5ea-7893-499d-8e02-b4be0eabf0a5');\n",
              "        const dataTable =\n",
              "          await google.colab.kernel.invokeFunction('convertToInteractive',\n",
              "                                                    [key], {});\n",
              "        if (!dataTable) return;\n",
              "\n",
              "        const docLinkHtml = 'Like what you see? Visit the ' +\n",
              "          '<a target=\"_blank\" href=https://colab.research.google.com/notebooks/data_table.ipynb>data table notebook</a>'\n",
              "          + ' to learn more about interactive tables.';\n",
              "        element.innerHTML = '';\n",
              "        dataTable['output_type'] = 'display_data';\n",
              "        await google.colab.output.renderOutput(dataTable, element);\n",
              "        const docLink = document.createElement('div');\n",
              "        docLink.innerHTML = docLinkHtml;\n",
              "        element.appendChild(docLink);\n",
              "      }\n",
              "    </script>\n",
              "  </div>\n",
              "\n",
              "\n",
              "<div id=\"df-23f230b1-9f54-467b-8e65-b674bb671cf5\">\n",
              "  <button class=\"colab-df-quickchart\" onclick=\"quickchart('df-23f230b1-9f54-467b-8e65-b674bb671cf5')\"\n",
              "            title=\"Suggest charts\"\n",
              "            style=\"display:none;\">\n",
              "\n",
              "<svg xmlns=\"http://www.w3.org/2000/svg\" height=\"24px\"viewBox=\"0 0 24 24\"\n",
              "     width=\"24px\">\n",
              "    <g>\n",
              "        <path d=\"M19 3H5c-1.1 0-2 .9-2 2v14c0 1.1.9 2 2 2h14c1.1 0 2-.9 2-2V5c0-1.1-.9-2-2-2zM9 17H7v-7h2v7zm4 0h-2V7h2v10zm4 0h-2v-4h2v4z\"/>\n",
              "    </g>\n",
              "</svg>\n",
              "  </button>\n",
              "\n",
              "<style>\n",
              "  .colab-df-quickchart {\n",
              "      --bg-color: #E8F0FE;\n",
              "      --fill-color: #1967D2;\n",
              "      --hover-bg-color: #E2EBFA;\n",
              "      --hover-fill-color: #174EA6;\n",
              "      --disabled-fill-color: #AAA;\n",
              "      --disabled-bg-color: #DDD;\n",
              "  }\n",
              "\n",
              "  [theme=dark] .colab-df-quickchart {\n",
              "      --bg-color: #3B4455;\n",
              "      --fill-color: #D2E3FC;\n",
              "      --hover-bg-color: #434B5C;\n",
              "      --hover-fill-color: #FFFFFF;\n",
              "      --disabled-bg-color: #3B4455;\n",
              "      --disabled-fill-color: #666;\n",
              "  }\n",
              "\n",
              "  .colab-df-quickchart {\n",
              "    background-color: var(--bg-color);\n",
              "    border: none;\n",
              "    border-radius: 50%;\n",
              "    cursor: pointer;\n",
              "    display: none;\n",
              "    fill: var(--fill-color);\n",
              "    height: 32px;\n",
              "    padding: 0;\n",
              "    width: 32px;\n",
              "  }\n",
              "\n",
              "  .colab-df-quickchart:hover {\n",
              "    background-color: var(--hover-bg-color);\n",
              "    box-shadow: 0 1px 2px rgba(60, 64, 67, 0.3), 0 1px 3px 1px rgba(60, 64, 67, 0.15);\n",
              "    fill: var(--button-hover-fill-color);\n",
              "  }\n",
              "\n",
              "  .colab-df-quickchart-complete:disabled,\n",
              "  .colab-df-quickchart-complete:disabled:hover {\n",
              "    background-color: var(--disabled-bg-color);\n",
              "    fill: var(--disabled-fill-color);\n",
              "    box-shadow: none;\n",
              "  }\n",
              "\n",
              "  .colab-df-spinner {\n",
              "    border: 2px solid var(--fill-color);\n",
              "    border-color: transparent;\n",
              "    border-bottom-color: var(--fill-color);\n",
              "    animation:\n",
              "      spin 1s steps(1) infinite;\n",
              "  }\n",
              "\n",
              "  @keyframes spin {\n",
              "    0% {\n",
              "      border-color: transparent;\n",
              "      border-bottom-color: var(--fill-color);\n",
              "      border-left-color: var(--fill-color);\n",
              "    }\n",
              "    20% {\n",
              "      border-color: transparent;\n",
              "      border-left-color: var(--fill-color);\n",
              "      border-top-color: var(--fill-color);\n",
              "    }\n",
              "    30% {\n",
              "      border-color: transparent;\n",
              "      border-left-color: var(--fill-color);\n",
              "      border-top-color: var(--fill-color);\n",
              "      border-right-color: var(--fill-color);\n",
              "    }\n",
              "    40% {\n",
              "      border-color: transparent;\n",
              "      border-right-color: var(--fill-color);\n",
              "      border-top-color: var(--fill-color);\n",
              "    }\n",
              "    60% {\n",
              "      border-color: transparent;\n",
              "      border-right-color: var(--fill-color);\n",
              "    }\n",
              "    80% {\n",
              "      border-color: transparent;\n",
              "      border-right-color: var(--fill-color);\n",
              "      border-bottom-color: var(--fill-color);\n",
              "    }\n",
              "    90% {\n",
              "      border-color: transparent;\n",
              "      border-bottom-color: var(--fill-color);\n",
              "    }\n",
              "  }\n",
              "</style>\n",
              "\n",
              "  <script>\n",
              "    async function quickchart(key) {\n",
              "      const quickchartButtonEl =\n",
              "        document.querySelector('#' + key + ' button');\n",
              "      quickchartButtonEl.disabled = true;  // To prevent multiple clicks.\n",
              "      quickchartButtonEl.classList.add('colab-df-spinner');\n",
              "      try {\n",
              "        const charts = await google.colab.kernel.invokeFunction(\n",
              "            'suggestCharts', [key], {});\n",
              "      } catch (error) {\n",
              "        console.error('Error during call to suggestCharts:', error);\n",
              "      }\n",
              "      quickchartButtonEl.classList.remove('colab-df-spinner');\n",
              "      quickchartButtonEl.classList.add('colab-df-quickchart-complete');\n",
              "    }\n",
              "    (() => {\n",
              "      let quickchartButtonEl =\n",
              "        document.querySelector('#df-23f230b1-9f54-467b-8e65-b674bb671cf5 button');\n",
              "      quickchartButtonEl.style.display =\n",
              "        google.colab.kernel.accessAllowed ? 'block' : 'none';\n",
              "    })();\n",
              "  </script>\n",
              "</div>\n",
              "\n",
              "    </div>\n",
              "  </div>\n"
            ],
            "application/vnd.google.colaboratory.intrinsic+json": {
              "type": "dataframe",
              "variable_name": "df",
              "summary": "{\n  \"name\": \"df\",\n  \"rows\": 768,\n  \"fields\": [\n    {\n      \"column\": \"Pregnancies\",\n      \"properties\": {\n        \"dtype\": \"number\",\n        \"std\": 3,\n        \"min\": 0,\n        \"max\": 17,\n        \"num_unique_values\": 17,\n        \"samples\": [\n          6,\n          1,\n          3\n        ],\n        \"semantic_type\": \"\",\n        \"description\": \"\"\n      }\n    },\n    {\n      \"column\": \"Glucose\",\n      \"properties\": {\n        \"dtype\": \"number\",\n        \"std\": 31,\n        \"min\": 0,\n        \"max\": 199,\n        \"num_unique_values\": 136,\n        \"samples\": [\n          151,\n          101,\n          112\n        ],\n        \"semantic_type\": \"\",\n        \"description\": \"\"\n      }\n    },\n    {\n      \"column\": \"BloodPressure\",\n      \"properties\": {\n        \"dtype\": \"number\",\n        \"std\": 19,\n        \"min\": 0,\n        \"max\": 122,\n        \"num_unique_values\": 47,\n        \"samples\": [\n          86,\n          46,\n          85\n        ],\n        \"semantic_type\": \"\",\n        \"description\": \"\"\n      }\n    },\n    {\n      \"column\": \"SkinThickness\",\n      \"properties\": {\n        \"dtype\": \"number\",\n        \"std\": 15,\n        \"min\": 0,\n        \"max\": 99,\n        \"num_unique_values\": 51,\n        \"samples\": [\n          7,\n          12,\n          48\n        ],\n        \"semantic_type\": \"\",\n        \"description\": \"\"\n      }\n    },\n    {\n      \"column\": \"Insulin\",\n      \"properties\": {\n        \"dtype\": \"number\",\n        \"std\": 115,\n        \"min\": 0,\n        \"max\": 846,\n        \"num_unique_values\": 186,\n        \"samples\": [\n          52,\n          41,\n          183\n        ],\n        \"semantic_type\": \"\",\n        \"description\": \"\"\n      }\n    },\n    {\n      \"column\": \"BMI\",\n      \"properties\": {\n        \"dtype\": \"number\",\n        \"std\": 7.8841603203754405,\n        \"min\": 0.0,\n        \"max\": 67.1,\n        \"num_unique_values\": 248,\n        \"samples\": [\n          19.9,\n          31.0,\n          38.1\n        ],\n        \"semantic_type\": \"\",\n        \"description\": \"\"\n      }\n    },\n    {\n      \"column\": \"DiabetesPedigreeFunction\",\n      \"properties\": {\n        \"dtype\": \"number\",\n        \"std\": 0.33132859501277484,\n        \"min\": 0.078,\n        \"max\": 2.42,\n        \"num_unique_values\": 517,\n        \"samples\": [\n          1.731,\n          0.426,\n          0.138\n        ],\n        \"semantic_type\": \"\",\n        \"description\": \"\"\n      }\n    },\n    {\n      \"column\": \"Age\",\n      \"properties\": {\n        \"dtype\": \"number\",\n        \"std\": 11,\n        \"min\": 21,\n        \"max\": 81,\n        \"num_unique_values\": 52,\n        \"samples\": [\n          60,\n          47,\n          72\n        ],\n        \"semantic_type\": \"\",\n        \"description\": \"\"\n      }\n    },\n    {\n      \"column\": \"Outcome\",\n      \"properties\": {\n        \"dtype\": \"number\",\n        \"std\": 0,\n        \"min\": 0,\n        \"max\": 1,\n        \"num_unique_values\": 2,\n        \"samples\": [\n          0,\n          1\n        ],\n        \"semantic_type\": \"\",\n        \"description\": \"\"\n      }\n    }\n  ]\n}"
            }
          },
          "metadata": {},
          "execution_count": 6
        }
      ],
      "source": [
        "import pandas as pd\n",
        "from sklearn.model_selection import train_test_split\n",
        "from sklearn.linear_model import LogisticRegression\n",
        "from sklearn import metrics\n",
        "import matplotlib.pyplot as plt\n",
        "import seaborn as sns\n",
        "import numpy as np\n",
        "from sklearn.metrics import classification_report\n",
        "\n",
        "dataset_url = \"https://raw.githubusercontent.com/farhnsaptr/DIF62130_B_25_2311532018/refs/heads/main/Dataset/diabetes.csv\"\n",
        "df = pd.read_csv(dataset_url)\n",
        "df.head()"
      ]
    },
    {
      "cell_type": "markdown",
      "source": [
        "#2. Data understanding\n",
        "Selanjutnya kita perlu memahami data yang kita miliki. Berdasarkan analisis, kita memiliki 768 data dan sembilan kolom, dimana satu kolom merupakan variabel target atau kolom label."
      ],
      "metadata": {
        "id": "y80z5KZmg9Rk"
      }
    },
    {
      "cell_type": "code",
      "source": [
        "df.shape"
      ],
      "metadata": {
        "id": "jE9o9WrWK1Up",
        "outputId": "705bdc6d-8474-4911-fc31-cba927620112",
        "colab": {
          "base_uri": "https://localhost:8080/"
        }
      },
      "execution_count": null,
      "outputs": [
        {
          "output_type": "execute_result",
          "data": {
            "text/plain": [
              "(768, 9)"
            ]
          },
          "metadata": {},
          "execution_count": 8
        }
      ]
    },
    {
      "cell_type": "markdown",
      "source": [
        "Setelah dianalisis lebih lanjut, ternyata tidak ada null value dalam masing-masing kolom. Dapat dilihat juga bahwa seluruh tipe data merupakan numerik yang mana tipe data ini adalah tipe data yang kita butuhkan untuk melakukan logistic regression. Bisa kita simpulkan bahwa data sudah tergolong cukup bersih dan dapat lanjut ke tahap berikutnya."
      ],
      "metadata": {
        "id": "hrEs6i2qhZNt"
      }
    },
    {
      "cell_type": "code",
      "source": [
        "df.info()"
      ],
      "metadata": {
        "id": "FxFmM-ciK38l",
        "outputId": "76cfe8db-81de-40f3-d232-07f4a755040c",
        "colab": {
          "base_uri": "https://localhost:8080/"
        }
      },
      "execution_count": null,
      "outputs": [
        {
          "output_type": "stream",
          "name": "stdout",
          "text": [
            "<class 'pandas.core.frame.DataFrame'>\n",
            "RangeIndex: 768 entries, 0 to 767\n",
            "Data columns (total 9 columns):\n",
            " #   Column                    Non-Null Count  Dtype  \n",
            "---  ------                    --------------  -----  \n",
            " 0   Pregnancies               768 non-null    int64  \n",
            " 1   Glucose                   768 non-null    int64  \n",
            " 2   BloodPressure             768 non-null    int64  \n",
            " 3   SkinThickness             768 non-null    int64  \n",
            " 4   Insulin                   768 non-null    int64  \n",
            " 5   BMI                       768 non-null    float64\n",
            " 6   DiabetesPedigreeFunction  768 non-null    float64\n",
            " 7   Age                       768 non-null    int64  \n",
            " 8   Outcome                   768 non-null    int64  \n",
            "dtypes: float64(2), int64(7)\n",
            "memory usage: 54.1 KB\n"
          ]
        }
      ]
    },
    {
      "cell_type": "markdown",
      "source": [
        "#3. Data Preparation\n",
        "Selanjutnya, kita perlu membagi dataset menjadi 2 variabel, yaitu variabel X (variabel terikat) dan variabel y (variabel bebas)."
      ],
      "metadata": {
        "id": "xoh1GV34hS_7"
      }
    },
    {
      "cell_type": "code",
      "source": [
        "# Define features (X) and target variable (y)\n",
        "X = df.drop('Outcome', axis=1)\n",
        "y = df['Outcome']\n",
        "\n",
        "# Print the shapes of X and y to verify the split\n",
        "print(\"Shape of X:\", X.shape)\n",
        "print(\"Shape of y:\", y.shape)\n"
      ],
      "metadata": {
        "id": "n3VTRnQxK9mh",
        "outputId": "f5253ac4-bce1-4174-dfa6-ddfcc459b597",
        "colab": {
          "base_uri": "https://localhost:8080/"
        }
      },
      "execution_count": null,
      "outputs": [
        {
          "output_type": "stream",
          "name": "stdout",
          "text": [
            "Shape of X: (768, 8)\n",
            "Shape of y: (768,)\n"
          ]
        }
      ]
    },
    {
      "cell_type": "markdown",
      "source": [
        "Sebelum memasukkan varabel ke model logistic regression, kita perlu membagi kembali menjadi 2 data, yaitu data testing dan data training\n",
        "\n",
        "Data training adalah bagian dataset yang kita latih untuk membuat prediksi atau menjalankan fungsi dari sebuah algoritma ML lainnya sesuai tujuannya masing-masing. Kita memberikan petunjuk melalui algoritma agar mesin yang kita latih bisa mencari korelasinya sendiri.\n",
        "\n",
        "Data testing adalah bagian dataset yang kita tes untuk melihat keakuratannya, atau dengan kata lain melihat performanya.\n",
        "\n",
        "Kita menggunakan library sklearn.model_selection method training_test_split untuk membagi data training dan data testing untuk memudahkan pemodelan menggunakan sklearn"
      ],
      "metadata": {
        "id": "BWjKx2EliC1p"
      }
    },
    {
      "cell_type": "code",
      "source": [
        "# Split data into training and testing sets\n",
        "X_train, X_test, y_train, y_test = train_test_split(X, y, test_size=0.3, random_state=16)\n",
        "\n",
        "# Print the shapes of the resulting sets\n",
        "print(\"Shape of X_train:\", X_train.shape)\n",
        "print(\"Shape of X_test:\", X_test.shape)\n",
        "print(\"Shape of y_train:\", y_train.shape)\n",
        "print(\"Shape of y_test:\", y_test.shape)\n"
      ],
      "metadata": {
        "id": "T61pVNTsMjbw",
        "outputId": "8e313d40-d824-4738-dd1f-c2da1d6fb697",
        "colab": {
          "base_uri": "https://localhost:8080/"
        }
      },
      "execution_count": null,
      "outputs": [
        {
          "output_type": "stream",
          "name": "stdout",
          "text": [
            "Shape of X_train: (537, 8)\n",
            "Shape of X_test: (231, 8)\n",
            "Shape of y_train: (537,)\n",
            "Shape of y_test: (231,)\n"
          ]
        }
      ]
    },
    {
      "cell_type": "markdown",
      "source": [
        "# 4. Modelling\n",
        "\n",
        "Setelah kita membagi data, kita dapat memasukkan data ke model logistic regression. Pada praktikum ini, kita memasukkan method LogisticRegression kedalam variabel logreg dengan random state = 16\n",
        "\n",
        "Random state digunakan untuk mengontrol proses acak yang terjadi dalam algoritma machine learning. Dengan menentukan nilai random_state, kita memastikan bahwa hasil yang dihasilkan oleh algoritma tersebut akan selalu sama setiap kali kode dijalankan. Ini berguna untuk memastikan hasil yang konsisten dan dapat direproduksi, terutama saat melakukan eksperimen atau debugging. Tanpa random_state, hasilnya bisa berbeda setiap kali dijalankan karena algoritma menggunakan proses acak yang berbeda. Misalnya, dalam pembagian data latih dan uji, atau dalam inisialisasi parameter model, random_state membantu menjaga konsistensi.\n",
        "\n"
      ],
      "metadata": {
        "id": "1eNlHRf0iwgY"
      }
    },
    {
      "cell_type": "code",
      "source": [
        "# Initialize the Logistic Regression model\n",
        "logreg = LogisticRegression(random_state=16)\n",
        "\n",
        "# Fit the model to the training data\n",
        "logreg.fit(X_train, y_train)"
      ],
      "metadata": {
        "id": "PU43GfWyNfWk",
        "outputId": "191a6336-9b8e-4be8-9ff1-c1415c0b4374",
        "colab": {
          "base_uri": "https://localhost:8080/",
          "height": 219
        }
      },
      "execution_count": null,
      "outputs": [
        {
          "output_type": "stream",
          "name": "stderr",
          "text": [
            "/usr/local/lib/python3.11/dist-packages/sklearn/linear_model/_logistic.py:465: ConvergenceWarning: lbfgs failed to converge (status=1):\n",
            "STOP: TOTAL NO. of ITERATIONS REACHED LIMIT.\n",
            "\n",
            "Increase the number of iterations (max_iter) or scale the data as shown in:\n",
            "    https://scikit-learn.org/stable/modules/preprocessing.html\n",
            "Please also refer to the documentation for alternative solver options:\n",
            "    https://scikit-learn.org/stable/modules/linear_model.html#logistic-regression\n",
            "  n_iter_i = _check_optimize_result(\n"
          ]
        },
        {
          "output_type": "execute_result",
          "data": {
            "text/plain": [
              "LogisticRegression(random_state=16)"
            ],
            "text/html": [
              "<style>#sk-container-id-1 {\n",
              "  /* Definition of color scheme common for light and dark mode */\n",
              "  --sklearn-color-text: #000;\n",
              "  --sklearn-color-text-muted: #666;\n",
              "  --sklearn-color-line: gray;\n",
              "  /* Definition of color scheme for unfitted estimators */\n",
              "  --sklearn-color-unfitted-level-0: #fff5e6;\n",
              "  --sklearn-color-unfitted-level-1: #f6e4d2;\n",
              "  --sklearn-color-unfitted-level-2: #ffe0b3;\n",
              "  --sklearn-color-unfitted-level-3: chocolate;\n",
              "  /* Definition of color scheme for fitted estimators */\n",
              "  --sklearn-color-fitted-level-0: #f0f8ff;\n",
              "  --sklearn-color-fitted-level-1: #d4ebff;\n",
              "  --sklearn-color-fitted-level-2: #b3dbfd;\n",
              "  --sklearn-color-fitted-level-3: cornflowerblue;\n",
              "\n",
              "  /* Specific color for light theme */\n",
              "  --sklearn-color-text-on-default-background: var(--sg-text-color, var(--theme-code-foreground, var(--jp-content-font-color1, black)));\n",
              "  --sklearn-color-background: var(--sg-background-color, var(--theme-background, var(--jp-layout-color0, white)));\n",
              "  --sklearn-color-border-box: var(--sg-text-color, var(--theme-code-foreground, var(--jp-content-font-color1, black)));\n",
              "  --sklearn-color-icon: #696969;\n",
              "\n",
              "  @media (prefers-color-scheme: dark) {\n",
              "    /* Redefinition of color scheme for dark theme */\n",
              "    --sklearn-color-text-on-default-background: var(--sg-text-color, var(--theme-code-foreground, var(--jp-content-font-color1, white)));\n",
              "    --sklearn-color-background: var(--sg-background-color, var(--theme-background, var(--jp-layout-color0, #111)));\n",
              "    --sklearn-color-border-box: var(--sg-text-color, var(--theme-code-foreground, var(--jp-content-font-color1, white)));\n",
              "    --sklearn-color-icon: #878787;\n",
              "  }\n",
              "}\n",
              "\n",
              "#sk-container-id-1 {\n",
              "  color: var(--sklearn-color-text);\n",
              "}\n",
              "\n",
              "#sk-container-id-1 pre {\n",
              "  padding: 0;\n",
              "}\n",
              "\n",
              "#sk-container-id-1 input.sk-hidden--visually {\n",
              "  border: 0;\n",
              "  clip: rect(1px 1px 1px 1px);\n",
              "  clip: rect(1px, 1px, 1px, 1px);\n",
              "  height: 1px;\n",
              "  margin: -1px;\n",
              "  overflow: hidden;\n",
              "  padding: 0;\n",
              "  position: absolute;\n",
              "  width: 1px;\n",
              "}\n",
              "\n",
              "#sk-container-id-1 div.sk-dashed-wrapped {\n",
              "  border: 1px dashed var(--sklearn-color-line);\n",
              "  margin: 0 0.4em 0.5em 0.4em;\n",
              "  box-sizing: border-box;\n",
              "  padding-bottom: 0.4em;\n",
              "  background-color: var(--sklearn-color-background);\n",
              "}\n",
              "\n",
              "#sk-container-id-1 div.sk-container {\n",
              "  /* jupyter's `normalize.less` sets `[hidden] { display: none; }`\n",
              "     but bootstrap.min.css set `[hidden] { display: none !important; }`\n",
              "     so we also need the `!important` here to be able to override the\n",
              "     default hidden behavior on the sphinx rendered scikit-learn.org.\n",
              "     See: https://github.com/scikit-learn/scikit-learn/issues/21755 */\n",
              "  display: inline-block !important;\n",
              "  position: relative;\n",
              "}\n",
              "\n",
              "#sk-container-id-1 div.sk-text-repr-fallback {\n",
              "  display: none;\n",
              "}\n",
              "\n",
              "div.sk-parallel-item,\n",
              "div.sk-serial,\n",
              "div.sk-item {\n",
              "  /* draw centered vertical line to link estimators */\n",
              "  background-image: linear-gradient(var(--sklearn-color-text-on-default-background), var(--sklearn-color-text-on-default-background));\n",
              "  background-size: 2px 100%;\n",
              "  background-repeat: no-repeat;\n",
              "  background-position: center center;\n",
              "}\n",
              "\n",
              "/* Parallel-specific style estimator block */\n",
              "\n",
              "#sk-container-id-1 div.sk-parallel-item::after {\n",
              "  content: \"\";\n",
              "  width: 100%;\n",
              "  border-bottom: 2px solid var(--sklearn-color-text-on-default-background);\n",
              "  flex-grow: 1;\n",
              "}\n",
              "\n",
              "#sk-container-id-1 div.sk-parallel {\n",
              "  display: flex;\n",
              "  align-items: stretch;\n",
              "  justify-content: center;\n",
              "  background-color: var(--sklearn-color-background);\n",
              "  position: relative;\n",
              "}\n",
              "\n",
              "#sk-container-id-1 div.sk-parallel-item {\n",
              "  display: flex;\n",
              "  flex-direction: column;\n",
              "}\n",
              "\n",
              "#sk-container-id-1 div.sk-parallel-item:first-child::after {\n",
              "  align-self: flex-end;\n",
              "  width: 50%;\n",
              "}\n",
              "\n",
              "#sk-container-id-1 div.sk-parallel-item:last-child::after {\n",
              "  align-self: flex-start;\n",
              "  width: 50%;\n",
              "}\n",
              "\n",
              "#sk-container-id-1 div.sk-parallel-item:only-child::after {\n",
              "  width: 0;\n",
              "}\n",
              "\n",
              "/* Serial-specific style estimator block */\n",
              "\n",
              "#sk-container-id-1 div.sk-serial {\n",
              "  display: flex;\n",
              "  flex-direction: column;\n",
              "  align-items: center;\n",
              "  background-color: var(--sklearn-color-background);\n",
              "  padding-right: 1em;\n",
              "  padding-left: 1em;\n",
              "}\n",
              "\n",
              "\n",
              "/* Toggleable style: style used for estimator/Pipeline/ColumnTransformer box that is\n",
              "clickable and can be expanded/collapsed.\n",
              "- Pipeline and ColumnTransformer use this feature and define the default style\n",
              "- Estimators will overwrite some part of the style using the `sk-estimator` class\n",
              "*/\n",
              "\n",
              "/* Pipeline and ColumnTransformer style (default) */\n",
              "\n",
              "#sk-container-id-1 div.sk-toggleable {\n",
              "  /* Default theme specific background. It is overwritten whether we have a\n",
              "  specific estimator or a Pipeline/ColumnTransformer */\n",
              "  background-color: var(--sklearn-color-background);\n",
              "}\n",
              "\n",
              "/* Toggleable label */\n",
              "#sk-container-id-1 label.sk-toggleable__label {\n",
              "  cursor: pointer;\n",
              "  display: flex;\n",
              "  width: 100%;\n",
              "  margin-bottom: 0;\n",
              "  padding: 0.5em;\n",
              "  box-sizing: border-box;\n",
              "  text-align: center;\n",
              "  align-items: start;\n",
              "  justify-content: space-between;\n",
              "  gap: 0.5em;\n",
              "}\n",
              "\n",
              "#sk-container-id-1 label.sk-toggleable__label .caption {\n",
              "  font-size: 0.6rem;\n",
              "  font-weight: lighter;\n",
              "  color: var(--sklearn-color-text-muted);\n",
              "}\n",
              "\n",
              "#sk-container-id-1 label.sk-toggleable__label-arrow:before {\n",
              "  /* Arrow on the left of the label */\n",
              "  content: \"▸\";\n",
              "  float: left;\n",
              "  margin-right: 0.25em;\n",
              "  color: var(--sklearn-color-icon);\n",
              "}\n",
              "\n",
              "#sk-container-id-1 label.sk-toggleable__label-arrow:hover:before {\n",
              "  color: var(--sklearn-color-text);\n",
              "}\n",
              "\n",
              "/* Toggleable content - dropdown */\n",
              "\n",
              "#sk-container-id-1 div.sk-toggleable__content {\n",
              "  max-height: 0;\n",
              "  max-width: 0;\n",
              "  overflow: hidden;\n",
              "  text-align: left;\n",
              "  /* unfitted */\n",
              "  background-color: var(--sklearn-color-unfitted-level-0);\n",
              "}\n",
              "\n",
              "#sk-container-id-1 div.sk-toggleable__content.fitted {\n",
              "  /* fitted */\n",
              "  background-color: var(--sklearn-color-fitted-level-0);\n",
              "}\n",
              "\n",
              "#sk-container-id-1 div.sk-toggleable__content pre {\n",
              "  margin: 0.2em;\n",
              "  border-radius: 0.25em;\n",
              "  color: var(--sklearn-color-text);\n",
              "  /* unfitted */\n",
              "  background-color: var(--sklearn-color-unfitted-level-0);\n",
              "}\n",
              "\n",
              "#sk-container-id-1 div.sk-toggleable__content.fitted pre {\n",
              "  /* unfitted */\n",
              "  background-color: var(--sklearn-color-fitted-level-0);\n",
              "}\n",
              "\n",
              "#sk-container-id-1 input.sk-toggleable__control:checked~div.sk-toggleable__content {\n",
              "  /* Expand drop-down */\n",
              "  max-height: 200px;\n",
              "  max-width: 100%;\n",
              "  overflow: auto;\n",
              "}\n",
              "\n",
              "#sk-container-id-1 input.sk-toggleable__control:checked~label.sk-toggleable__label-arrow:before {\n",
              "  content: \"▾\";\n",
              "}\n",
              "\n",
              "/* Pipeline/ColumnTransformer-specific style */\n",
              "\n",
              "#sk-container-id-1 div.sk-label input.sk-toggleable__control:checked~label.sk-toggleable__label {\n",
              "  color: var(--sklearn-color-text);\n",
              "  background-color: var(--sklearn-color-unfitted-level-2);\n",
              "}\n",
              "\n",
              "#sk-container-id-1 div.sk-label.fitted input.sk-toggleable__control:checked~label.sk-toggleable__label {\n",
              "  background-color: var(--sklearn-color-fitted-level-2);\n",
              "}\n",
              "\n",
              "/* Estimator-specific style */\n",
              "\n",
              "/* Colorize estimator box */\n",
              "#sk-container-id-1 div.sk-estimator input.sk-toggleable__control:checked~label.sk-toggleable__label {\n",
              "  /* unfitted */\n",
              "  background-color: var(--sklearn-color-unfitted-level-2);\n",
              "}\n",
              "\n",
              "#sk-container-id-1 div.sk-estimator.fitted input.sk-toggleable__control:checked~label.sk-toggleable__label {\n",
              "  /* fitted */\n",
              "  background-color: var(--sklearn-color-fitted-level-2);\n",
              "}\n",
              "\n",
              "#sk-container-id-1 div.sk-label label.sk-toggleable__label,\n",
              "#sk-container-id-1 div.sk-label label {\n",
              "  /* The background is the default theme color */\n",
              "  color: var(--sklearn-color-text-on-default-background);\n",
              "}\n",
              "\n",
              "/* On hover, darken the color of the background */\n",
              "#sk-container-id-1 div.sk-label:hover label.sk-toggleable__label {\n",
              "  color: var(--sklearn-color-text);\n",
              "  background-color: var(--sklearn-color-unfitted-level-2);\n",
              "}\n",
              "\n",
              "/* Label box, darken color on hover, fitted */\n",
              "#sk-container-id-1 div.sk-label.fitted:hover label.sk-toggleable__label.fitted {\n",
              "  color: var(--sklearn-color-text);\n",
              "  background-color: var(--sklearn-color-fitted-level-2);\n",
              "}\n",
              "\n",
              "/* Estimator label */\n",
              "\n",
              "#sk-container-id-1 div.sk-label label {\n",
              "  font-family: monospace;\n",
              "  font-weight: bold;\n",
              "  display: inline-block;\n",
              "  line-height: 1.2em;\n",
              "}\n",
              "\n",
              "#sk-container-id-1 div.sk-label-container {\n",
              "  text-align: center;\n",
              "}\n",
              "\n",
              "/* Estimator-specific */\n",
              "#sk-container-id-1 div.sk-estimator {\n",
              "  font-family: monospace;\n",
              "  border: 1px dotted var(--sklearn-color-border-box);\n",
              "  border-radius: 0.25em;\n",
              "  box-sizing: border-box;\n",
              "  margin-bottom: 0.5em;\n",
              "  /* unfitted */\n",
              "  background-color: var(--sklearn-color-unfitted-level-0);\n",
              "}\n",
              "\n",
              "#sk-container-id-1 div.sk-estimator.fitted {\n",
              "  /* fitted */\n",
              "  background-color: var(--sklearn-color-fitted-level-0);\n",
              "}\n",
              "\n",
              "/* on hover */\n",
              "#sk-container-id-1 div.sk-estimator:hover {\n",
              "  /* unfitted */\n",
              "  background-color: var(--sklearn-color-unfitted-level-2);\n",
              "}\n",
              "\n",
              "#sk-container-id-1 div.sk-estimator.fitted:hover {\n",
              "  /* fitted */\n",
              "  background-color: var(--sklearn-color-fitted-level-2);\n",
              "}\n",
              "\n",
              "/* Specification for estimator info (e.g. \"i\" and \"?\") */\n",
              "\n",
              "/* Common style for \"i\" and \"?\" */\n",
              "\n",
              ".sk-estimator-doc-link,\n",
              "a:link.sk-estimator-doc-link,\n",
              "a:visited.sk-estimator-doc-link {\n",
              "  float: right;\n",
              "  font-size: smaller;\n",
              "  line-height: 1em;\n",
              "  font-family: monospace;\n",
              "  background-color: var(--sklearn-color-background);\n",
              "  border-radius: 1em;\n",
              "  height: 1em;\n",
              "  width: 1em;\n",
              "  text-decoration: none !important;\n",
              "  margin-left: 0.5em;\n",
              "  text-align: center;\n",
              "  /* unfitted */\n",
              "  border: var(--sklearn-color-unfitted-level-1) 1pt solid;\n",
              "  color: var(--sklearn-color-unfitted-level-1);\n",
              "}\n",
              "\n",
              ".sk-estimator-doc-link.fitted,\n",
              "a:link.sk-estimator-doc-link.fitted,\n",
              "a:visited.sk-estimator-doc-link.fitted {\n",
              "  /* fitted */\n",
              "  border: var(--sklearn-color-fitted-level-1) 1pt solid;\n",
              "  color: var(--sklearn-color-fitted-level-1);\n",
              "}\n",
              "\n",
              "/* On hover */\n",
              "div.sk-estimator:hover .sk-estimator-doc-link:hover,\n",
              ".sk-estimator-doc-link:hover,\n",
              "div.sk-label-container:hover .sk-estimator-doc-link:hover,\n",
              ".sk-estimator-doc-link:hover {\n",
              "  /* unfitted */\n",
              "  background-color: var(--sklearn-color-unfitted-level-3);\n",
              "  color: var(--sklearn-color-background);\n",
              "  text-decoration: none;\n",
              "}\n",
              "\n",
              "div.sk-estimator.fitted:hover .sk-estimator-doc-link.fitted:hover,\n",
              ".sk-estimator-doc-link.fitted:hover,\n",
              "div.sk-label-container:hover .sk-estimator-doc-link.fitted:hover,\n",
              ".sk-estimator-doc-link.fitted:hover {\n",
              "  /* fitted */\n",
              "  background-color: var(--sklearn-color-fitted-level-3);\n",
              "  color: var(--sklearn-color-background);\n",
              "  text-decoration: none;\n",
              "}\n",
              "\n",
              "/* Span, style for the box shown on hovering the info icon */\n",
              ".sk-estimator-doc-link span {\n",
              "  display: none;\n",
              "  z-index: 9999;\n",
              "  position: relative;\n",
              "  font-weight: normal;\n",
              "  right: .2ex;\n",
              "  padding: .5ex;\n",
              "  margin: .5ex;\n",
              "  width: min-content;\n",
              "  min-width: 20ex;\n",
              "  max-width: 50ex;\n",
              "  color: var(--sklearn-color-text);\n",
              "  box-shadow: 2pt 2pt 4pt #999;\n",
              "  /* unfitted */\n",
              "  background: var(--sklearn-color-unfitted-level-0);\n",
              "  border: .5pt solid var(--sklearn-color-unfitted-level-3);\n",
              "}\n",
              "\n",
              ".sk-estimator-doc-link.fitted span {\n",
              "  /* fitted */\n",
              "  background: var(--sklearn-color-fitted-level-0);\n",
              "  border: var(--sklearn-color-fitted-level-3);\n",
              "}\n",
              "\n",
              ".sk-estimator-doc-link:hover span {\n",
              "  display: block;\n",
              "}\n",
              "\n",
              "/* \"?\"-specific style due to the `<a>` HTML tag */\n",
              "\n",
              "#sk-container-id-1 a.estimator_doc_link {\n",
              "  float: right;\n",
              "  font-size: 1rem;\n",
              "  line-height: 1em;\n",
              "  font-family: monospace;\n",
              "  background-color: var(--sklearn-color-background);\n",
              "  border-radius: 1rem;\n",
              "  height: 1rem;\n",
              "  width: 1rem;\n",
              "  text-decoration: none;\n",
              "  /* unfitted */\n",
              "  color: var(--sklearn-color-unfitted-level-1);\n",
              "  border: var(--sklearn-color-unfitted-level-1) 1pt solid;\n",
              "}\n",
              "\n",
              "#sk-container-id-1 a.estimator_doc_link.fitted {\n",
              "  /* fitted */\n",
              "  border: var(--sklearn-color-fitted-level-1) 1pt solid;\n",
              "  color: var(--sklearn-color-fitted-level-1);\n",
              "}\n",
              "\n",
              "/* On hover */\n",
              "#sk-container-id-1 a.estimator_doc_link:hover {\n",
              "  /* unfitted */\n",
              "  background-color: var(--sklearn-color-unfitted-level-3);\n",
              "  color: var(--sklearn-color-background);\n",
              "  text-decoration: none;\n",
              "}\n",
              "\n",
              "#sk-container-id-1 a.estimator_doc_link.fitted:hover {\n",
              "  /* fitted */\n",
              "  background-color: var(--sklearn-color-fitted-level-3);\n",
              "}\n",
              "</style><div id=\"sk-container-id-1\" class=\"sk-top-container\"><div class=\"sk-text-repr-fallback\"><pre>LogisticRegression(random_state=16)</pre><b>In a Jupyter environment, please rerun this cell to show the HTML representation or trust the notebook. <br />On GitHub, the HTML representation is unable to render, please try loading this page with nbviewer.org.</b></div><div class=\"sk-container\" hidden><div class=\"sk-item\"><div class=\"sk-estimator fitted sk-toggleable\"><input class=\"sk-toggleable__control sk-hidden--visually\" id=\"sk-estimator-id-1\" type=\"checkbox\" checked><label for=\"sk-estimator-id-1\" class=\"sk-toggleable__label fitted sk-toggleable__label-arrow\"><div><div>LogisticRegression</div></div><div><a class=\"sk-estimator-doc-link fitted\" rel=\"noreferrer\" target=\"_blank\" href=\"https://scikit-learn.org/1.6/modules/generated/sklearn.linear_model.LogisticRegression.html\">?<span>Documentation for LogisticRegression</span></a><span class=\"sk-estimator-doc-link fitted\">i<span>Fitted</span></span></div></label><div class=\"sk-toggleable__content fitted\"><pre>LogisticRegression(random_state=16)</pre></div> </div></div></div></div>"
            ]
          },
          "metadata": {},
          "execution_count": 12
        }
      ]
    },
    {
      "cell_type": "markdown",
      "source": [
        "Setelah kita latih data training dengan model logistic regression, kita perlu menguji apakah model sudah sesuai atau belum. caranya dengan menguji menggnakan variabel X_test di method logreg.predict()."
      ],
      "metadata": {
        "id": "GfKQht0vjweE"
      }
    },
    {
      "cell_type": "code",
      "source": [
        "y_pred = logreg.predict(X_test)"
      ],
      "metadata": {
        "id": "C9p_7_vFN_re"
      },
      "execution_count": null,
      "outputs": []
    },
    {
      "cell_type": "code",
      "source": [
        "X_test.shape"
      ],
      "metadata": {
        "id": "3nPZQSjlOgKC",
        "outputId": "f70d5d21-2637-43e7-b472-9619b69bab50",
        "colab": {
          "base_uri": "https://localhost:8080/"
        }
      },
      "execution_count": null,
      "outputs": [
        {
          "output_type": "execute_result",
          "data": {
            "text/plain": [
              "(231, 8)"
            ]
          },
          "metadata": {},
          "execution_count": 14
        }
      ]
    },
    {
      "cell_type": "markdown",
      "source": [
        "# 5. Evaluation\n",
        "\n",
        "Setelah kita menguji menggunakan logreg.predict(), kita perlu mengevaluasi hasil model menggunakan confussion matrix\n",
        "\n",
        "Berikut adalah visualisasi confussion matrix:\n",
        "![conf_matrix.png](data:image/png;base64,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)\n",
        "\n",
        "- True positive (TP)\n",
        "Kasus di mana model benar memprediksi kelas positif. Contohnya dalam praktikum ini, model berhasil memprediksi seseorang bahwa dirinya mengidap diabetes.\n",
        "- True negative (TN)\n",
        "Kasus di mana model benar memprediksi kelas negatif. Contohnya dalam praktikum ini, model berhasil memprediksi seseorang bahwa dirinya tidak mengidap diabetes.\n",
        "- False positive (FP)\n",
        "Kasus di mana model salah memprediksi kelas positif Contohnya dalam praktikum ini, model memprediksi seseorang bahwa dirinya mengidap diabetes. Namun, faktanya dirinya tidak mengidap diabetes.\n",
        "- False negative (FN)\n",
        "Kasus di mana model salah memprediksi kelas negatif. Contohnya dalam praktikum ini, model memprediksi seseorang bahwa dirinya tidak mengidap diabetes. Namun, faktanya dirinya mengidap diabetes."
      ],
      "metadata": {
        "id": "0HNaHES1kJDE"
      }
    },
    {
      "cell_type": "code",
      "source": [
        "cnf_matrix = metrics.confusion_matrix(y_test, y_pred)\n",
        "cnf_matrix"
      ],
      "metadata": {
        "id": "pgaFLIDmQDdI",
        "outputId": "c23bfe65-0280-4e61-e23b-d53e6f361818",
        "colab": {
          "base_uri": "https://localhost:8080/"
        }
      },
      "execution_count": null,
      "outputs": [
        {
          "output_type": "execute_result",
          "data": {
            "text/plain": [
              "array([[135,  12],\n",
              "       [ 36,  48]])"
            ]
          },
          "metadata": {},
          "execution_count": 16
        }
      ]
    },
    {
      "cell_type": "code",
      "source": [
        "class_names=[0,1] # name  of classes\n",
        "fig, ax = plt.subplots()\n",
        "tick_marks = np.arange(len(class_names))\n",
        "plt.xticks(tick_marks, class_names)\n",
        "plt.yticks(tick_marks, class_names)\n",
        "# create heatmap\n",
        "sns.heatmap(pd.DataFrame(cnf_matrix), annot=True, cmap=\"YlGnBu\" ,fmt='g')\n",
        "ax.xaxis.set_label_position(\"top\")\n",
        "plt.tight_layout()\n",
        "plt.title('Confusion matrix', y=1.1)\n",
        "plt.ylabel('Actual label')\n",
        "plt.xlabel('Predicted label')\n",
        "plt.show()\n"
      ],
      "metadata": {
        "id": "nxg3tr51QQd6",
        "outputId": "79a19fe0-e8f3-4140-b218-38a0b25614a1",
        "colab": {
          "base_uri": "https://localhost:8080/",
          "height": 551
        }
      },
      "execution_count": null,
      "outputs": [
        {
          "output_type": "display_data",
          "data": {
            "text/plain": [
              "<Figure size 640x480 with 2 Axes>"
            ],
            "image/png": "[encoded data removed]"
          },
          "metadata": {}
        }
      ]
    },
    {
      "cell_type": "markdown",
      "source": [
        "Selanjutnya, kita perlu melihat akurasi, recall, san f1 score dari model.\n",
        "\n",
        "- Akurasi = mengukur seberapa sering model membuat prediksi yang benar secara keseluruhan.\n",
        "- Recall = mengukur seberapa baik model dapat mengidentifikasi semua kasus positif yang sebenarnya (misalnya, pasien diabetes).\n",
        "- F1-score = rata-rata harmonik dari precision dan recall. Ini berguna ketika kita ingin menyeimbangkan antara precision (seberapa akurat prediksi positif) dan recall (seberapa banyak kasus positif yang terdeteksi)."
      ],
      "metadata": {
        "id": "z44MdraWmc_d"
      }
    },
    {
      "cell_type": "code",
      "source": [
        "print(classification_report(y_test, y_pred))"
      ],
      "metadata": {
        "id": "eehwXzJwS2um",
        "outputId": "f047d6c1-48ff-45be-fb0e-a68b220c49e5",
        "colab": {
          "base_uri": "https://localhost:8080/"
        }
      },
      "execution_count": null,
      "outputs": [
        {
          "output_type": "stream",
          "name": "stdout",
          "text": [
            "              precision    recall  f1-score   support\n",
            "\n",
            "           0       0.79      0.92      0.85       147\n",
            "           1       0.80      0.57      0.67        84\n",
            "\n",
            "    accuracy                           0.79       231\n",
            "   macro avg       0.79      0.74      0.76       231\n",
            "weighted avg       0.79      0.79      0.78       231\n",
            "\n"
          ]
        }
      ]
    },
    {
      "cell_type": "markdown",
      "source": [
        "Untuk melihat lebih detail tentang hasil model kita, kita perlu mengukur ROC Curve dari hasil model.\n",
        "\n",
        "ROC Curve (Receiver Operating Characteristic Curve) adalah grafik yang digunakan untuk menilai seberapa baik sebuah model klasifikasi (seperti prediksi penyakit atau spam) dapat membedakan antara dua kelompok, misalnya positif (ada penyakit) dan negatif (tidak ada penyakit). Grafik ini membandingkan dua hal: seberapa sering model benar mengidentifikasi kasus positif (True Positive Rate) dan seberapa sering model salah mengidentifikasi kasus negatif sebagai positif (False Positive Rate). Semakin dekat kurva ROC ke sudut kiri atas grafik, semakin baik performa model tersebut. Jika kurva mengikuti garis diagonal, artinya model tidak lebih baik daripada tebakan acak. Area Under Curve (AUC) adalah nilai yang merangkum performa ini; semakin mendekati 1, semakin baik modelnya."
      ],
      "metadata": {
        "id": "JjglUcBTqni7"
      }
    },
    {
      "cell_type": "code",
      "source": [
        "y_pred_probba = logreg.predict_proba(X_test)[::,1]\n",
        "fpr, tpr, _ = metrics.roc_curve(y_test,  y_pred_probba)\n",
        "auc = metrics.roc_auc_score(y_test, y_pred_probba)\n",
        "plt.plot(fpr, tpr, label=\"data 1, auc=\"+str(auc))\n",
        "plt.legend(loc=4)\n",
        "plt.show()"
      ],
      "metadata": {
        "id": "nLCYWHzdT0A7",
        "outputId": "9de747f9-5f46-4465-8964-f0a4bfa15d1e",
        "colab": {
          "base_uri": "https://localhost:8080/",
          "height": 430
        }
      },
      "execution_count": null,
      "outputs": [
        {
          "output_type": "display_data",
          "data": {
            "text/plain": [
              "<Figure size 640x480 with 1 Axes>"
            ],
            "image/png": "[encoded data removed]"
          },
          "metadata": {}
        }
      ]
    }
  ]
}